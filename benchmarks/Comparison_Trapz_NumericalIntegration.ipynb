{
 "cells": [
  {
   "cell_type": "code",
   "execution_count": 20,
   "metadata": {},
   "outputs": [
    {
     "name": "stdout",
     "output_type": "stream",
     "text": [
      "\u001b[32m\u001b[1m  Updating\u001b[22m\u001b[39m git-repo `https://github.com/dextorious/NumericalIntegration.jl`\n",
      "\u001b[?25l\u001b[2K\u001b[?25h\u001b[32m\u001b[1m Resolving\u001b[22m\u001b[39m package versions...\n",
      "\u001b[32m\u001b[1m  Updating\u001b[22m\u001b[39m `~/.julia/environments/v1.1/Project.toml`\n",
      "\u001b[90m [no changes]\u001b[39m\n",
      "\u001b[32m\u001b[1m  Updating\u001b[22m\u001b[39m `~/.julia/environments/v1.1/Manifest.toml`\n",
      "\u001b[90m [no changes]\u001b[39m\n"
     ]
    }
   ],
   "source": [
    "import Pkg; Pkg.pkg\"add https://github.com/dextorious/NumericalIntegration.jl\"\n",
    "import Pkg; Pkg.pkg\"add https://github.com/francescoalemanno/Trapz.jl\"\n",
    "using NumericalIntegration, Trapz"
   ]
  },
  {
   "cell_type": "code",
   "execution_count": 55,
   "metadata": {},
   "outputs": [
    {
     "data": {
      "text/plain": [
       "100×200 Array{Float64,2}:\n",
       " 0.0          0.000101008  0.00040403   …  3.88031  3.92     3.9599   4.0    \n",
       " 0.00010203   0.00010152   0.000303025     3.86051  3.90011  3.9399   3.9799 \n",
       " 0.000408122  0.000306094  0.000406081     3.84092  3.88041  3.92011  3.96   \n",
       " 0.000918274  0.000714728  0.000713198     3.82153  3.86092  3.90052  3.94031\n",
       " 0.00163249   0.00132742   0.00122438      3.80235  3.84164  3.88113  3.92082\n",
       " 0.00255076   0.00214418   0.00193961   …  3.78337  3.82256  3.86195  3.90154\n",
       " 0.00367309   0.003165     0.00285891      3.76459  3.80368  3.84297  3.88246\n",
       " 0.00499949   0.00438987   0.00398227      3.74602  3.78501  3.8242   3.86359\n",
       " 0.00652995   0.00581881   0.00530969      3.72766  3.76654  3.80563  3.84491\n",
       " 0.00826446   0.00745181   0.00684117      3.70949  3.74828  3.78726  3.82645\n",
       " 0.010203     0.00928887   0.00857672   …  3.69153  3.73022  3.7691   3.80818\n",
       " 0.0123457    0.01133      0.0105163       3.67378  3.71236  3.75114  3.79012\n",
       " 0.0146924    0.0135752    0.01266         3.65623  3.69471  3.73339  3.77227\n",
       " ⋮                                      ⋱                                    \n",
       " 0.790123     0.781291     0.77266         2.91945  2.95021  2.98118  3.01235\n",
       " 0.808183     0.799249     0.790517        2.91761  2.94828  2.97914  3.0102 \n",
       " 0.826446     0.817411     0.808577     …  2.91598  2.94654  2.9773   3.00826\n",
       " 0.844914     0.835777     0.826842        2.91455  2.94501  2.97567  3.00653\n",
       " 0.863585     0.854347     0.84531         2.91332  2.94368  2.97424  3.005  \n",
       " 0.882461     0.873121     0.863983        2.9123   2.94256  2.97301  3.00367\n",
       " 0.901541     0.892099     0.882859        2.91148  2.94164  2.97199  3.00255\n",
       " 0.920824     0.911281     0.90194      …  2.91087  2.94092  2.97118  3.00163\n",
       " 0.940312     0.930668     0.921225        2.91046  2.94041  2.97056  3.00092\n",
       " 0.960004     0.950258     0.940714        2.91026  2.9401   2.97016  3.00041\n",
       " 0.9799       0.970052     0.960407        2.91025  2.94     2.96995  3.0001 \n",
       " 1.0          0.990051     0.980304        2.91046  2.9401   2.96995  3.0    "
      ]
     },
     "execution_count": 55,
     "metadata": {},
     "output_type": "execute_result"
    }
   ],
   "source": [
    "N1=100\n",
    "N2=200\n",
    "vx=range(0,1,length=N1)\n",
    "vy=range(0,2,length=N2)\n",
    "M=[x^2+y^2-x*y for x in vx, y in vy]"
   ]
  },
  {
   "cell_type": "code",
   "execution_count": 56,
   "metadata": {},
   "outputs": [
    {
     "data": {
      "text/plain": [
       "2.333401012651793"
      ]
     },
     "execution_count": 56,
     "metadata": {},
     "output_type": "execute_result"
    }
   ],
   "source": [
    "trapz(vx,trapz(vy,M))"
   ]
  },
  {
   "cell_type": "code",
   "execution_count": 57,
   "metadata": {},
   "outputs": [
    {
     "data": {
      "text/plain": [
       "2.333401012651791"
      ]
     },
     "execution_count": 57,
     "metadata": {},
     "output_type": "execute_result"
    }
   ],
   "source": [
    "integrate((vx,vy),M,TrapezoidalFast())"
   ]
  },
  {
   "cell_type": "code",
   "execution_count": 58,
   "metadata": {},
   "outputs": [],
   "source": [
    "@assert trapz(vx,trapz(vy,M)) ≈ integrate((vx,vy),M,TrapezoidalFast())"
   ]
  },
  {
   "cell_type": "code",
   "execution_count": 59,
   "metadata": {},
   "outputs": [],
   "source": [
    "using BenchmarkTools"
   ]
  },
  {
   "cell_type": "code",
   "execution_count": 60,
   "metadata": {},
   "outputs": [
    {
     "data": {
      "text/plain": [
       "BenchmarkTools.Trial: \n",
       "  memory estimate:  18.44 KiB\n",
       "  allocs estimate:  304\n",
       "  --------------\n",
       "  minimum time:     30.086 μs (0.00% GC)\n",
       "  median time:      30.633 μs (0.00% GC)\n",
       "  mean time:        33.425 μs (5.03% GC)\n",
       "  maximum time:     2.183 ms (97.25% GC)\n",
       "  --------------\n",
       "  samples:          10000\n",
       "  evals/sample:     1"
      ]
     },
     "execution_count": 60,
     "metadata": {},
     "output_type": "execute_result"
    }
   ],
   "source": [
    "@benchmark trapz($vx,trapz($vy,$M))"
   ]
  },
  {
   "cell_type": "code",
   "execution_count": 61,
   "metadata": {},
   "outputs": [
    {
     "data": {
      "text/plain": [
       "BenchmarkTools.Trial: \n",
       "  memory estimate:  11.39 KiB\n",
       "  allocs estimate:  204\n",
       "  --------------\n",
       "  minimum time:     153.237 μs (0.00% GC)\n",
       "  median time:      153.885 μs (0.00% GC)\n",
       "  mean time:        157.546 μs (0.78% GC)\n",
       "  maximum time:     2.698 ms (92.66% GC)\n",
       "  --------------\n",
       "  samples:          10000\n",
       "  evals/sample:     1"
      ]
     },
     "execution_count": 61,
     "metadata": {},
     "output_type": "execute_result"
    }
   ],
   "source": [
    "T=(vx,vy)\n",
    "mode=TrapezoidalFast()\n",
    "@benchmark integrate($T,$M,$mode) "
   ]
  },
  {
   "cell_type": "code",
   "execution_count": 62,
   "metadata": {},
   "outputs": [
    {
     "data": {
      "text/plain": [
       "5.110996300123329"
      ]
     },
     "execution_count": 62,
     "metadata": {},
     "output_type": "execute_result"
    }
   ],
   "source": [
    "(@belapsed integrate($T,$M,$mode))/(@belapsed trapz($vx,trapz($vy,$M)))"
   ]
  },
  {
   "cell_type": "code",
   "execution_count": 64,
   "metadata": {},
   "outputs": [
    {
     "data": {
      "text/plain": [
       "10000×10000 Array{Float64,2}:\n",
       " 0.0         4.0008e-8   1.60032e-7  …  3.9976  3.9984  3.9992  4.0   \n",
       " 1.0002e-8   3.0006e-8   1.30026e-7     3.9974  3.9982  3.999   3.9998\n",
       " 4.0008e-8   4.0008e-8   1.20024e-7     3.9972  3.998   3.9988  3.9996\n",
       " 9.0018e-8   7.0014e-8   1.30026e-7     3.997   3.9978  3.9986  3.9994\n",
       " 1.60032e-7  1.20024e-7  1.60032e-7     3.9968  3.9976  3.9984  3.9992\n",
       " 2.5005e-7   1.90038e-7  2.10042e-7  …  3.9966  3.9974  3.9982  3.999 \n",
       " 3.60072e-7  2.80056e-7  2.80056e-7     3.9964  3.9972  3.998   3.9988\n",
       " 4.90098e-7  3.90078e-7  3.70074e-7     3.9962  3.997   3.9978  3.9986\n",
       " 6.40128e-7  5.20104e-7  4.80096e-7     3.996   3.9968  3.9976  3.9984\n",
       " 8.10162e-7  6.70134e-7  6.10122e-7     3.9958  3.9966  3.9974  3.9982\n",
       " 1.0002e-6   8.40168e-7  7.60152e-7  …  3.9956  3.9964  3.9972  3.998 \n",
       " 1.21024e-6  1.03021e-6  9.30186e-7     3.9954  3.9962  3.997   3.9978\n",
       " 1.44029e-6  1.24025e-6  1.12022e-6     3.9952  3.996   3.9968  3.9976\n",
       " ⋮                                   ⋱                                \n",
       " 0.997801    0.997601    0.997402       2.9982  2.9988  2.9994  3.0   \n",
       " 0.998001    0.997801    0.997601       2.9982  2.9988  2.9994  3.0   \n",
       " 0.998201    0.998001    0.997801    …  2.9982  2.9988  2.9994  3.0   \n",
       " 0.9984      0.998201    0.998001       2.9982  2.9988  2.9994  3.0   \n",
       " 0.9986      0.998401    0.998201       2.9982  2.9988  2.9994  3.0   \n",
       " 0.9988      0.9986      0.998401       2.9982  2.9988  2.9994  3.0   \n",
       " 0.999       0.9988      0.9986         2.9982  2.9988  2.9994  3.0   \n",
       " 0.9992      0.999       0.9988      …  2.9982  2.9988  2.9994  3.0   \n",
       " 0.9994      0.9992      0.999          2.9982  2.9988  2.9994  3.0   \n",
       " 0.9996      0.9994      0.9992         2.9982  2.9988  2.9994  3.0   \n",
       " 0.9998      0.9996      0.9994         2.9982  2.9988  2.9994  3.0   \n",
       " 1.0         0.9998      0.9996         2.9982  2.9988  2.9994  3.0   "
      ]
     },
     "execution_count": 64,
     "metadata": {},
     "output_type": "execute_result"
    }
   ],
   "source": [
    "N1=10000\n",
    "N2=10000\n",
    "vx=range(0,1,length=N1)\n",
    "vy=range(0,2,length=N2)\n",
    "M=[x^2+y^2-x*y for x in vx, y in vy]"
   ]
  },
  {
   "cell_type": "code",
   "execution_count": 65,
   "metadata": {},
   "outputs": [
    {
     "data": {
      "text/plain": [
       "BenchmarkTools.Trial: \n",
       "  memory estimate:  1.30 MiB\n",
       "  allocs estimate:  20009\n",
       "  --------------\n",
       "  minimum time:     130.221 ms (0.00% GC)\n",
       "  median time:      133.737 ms (0.00% GC)\n",
       "  mean time:        136.092 ms (0.08% GC)\n",
       "  maximum time:     152.884 ms (0.00% GC)\n",
       "  --------------\n",
       "  samples:          37\n",
       "  evals/sample:     1"
      ]
     },
     "execution_count": 65,
     "metadata": {},
     "output_type": "execute_result"
    }
   ],
   "source": [
    "@benchmark trapz($vx,trapz($vy,$M))"
   ]
  },
  {
   "cell_type": "code",
   "execution_count": 66,
   "metadata": {},
   "outputs": [
    {
     "data": {
      "text/plain": [
       "BenchmarkTools.Trial: \n",
       "  memory estimate:  547.20 KiB\n",
       "  allocs estimate:  10005\n",
       "  --------------\n",
       "  minimum time:     759.648 ms (0.00% GC)\n",
       "  median time:      761.528 ms (0.00% GC)\n",
       "  mean time:        763.704 ms (0.00% GC)\n",
       "  maximum time:     773.306 ms (0.00% GC)\n",
       "  --------------\n",
       "  samples:          7\n",
       "  evals/sample:     1"
      ]
     },
     "execution_count": 66,
     "metadata": {},
     "output_type": "execute_result"
    }
   ],
   "source": [
    "T=(vx,vy)\n",
    "mode=TrapezoidalFast()\n",
    "@benchmark integrate($T,$M,$mode)"
   ]
  },
  {
   "cell_type": "code",
   "execution_count": 67,
   "metadata": {},
   "outputs": [
    {
     "data": {
      "text/plain": [
       "5.871258892377274"
      ]
     },
     "execution_count": 67,
     "metadata": {},
     "output_type": "execute_result"
    }
   ],
   "source": [
    "(@belapsed integrate($T,$M,$mode))/(@belapsed trapz($vx,trapz($vy,$M)))"
   ]
  }
 ],
 "metadata": {
  "kernelspec": {
   "display_name": "Julia -O3 (4 threads) 1.1.1",
   "language": "julia",
   "name": "julia--o3-(4-threads)-1.1"
  },
  "language_info": {
   "file_extension": ".jl",
   "mimetype": "application/julia",
   "name": "julia",
   "version": "1.1.1"
  }
 },
 "nbformat": 4,
 "nbformat_minor": 2
}
